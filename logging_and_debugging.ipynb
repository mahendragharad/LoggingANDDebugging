{
  "nbformat": 4,
  "nbformat_minor": 0,
  "metadata": {
    "colab": {
      "provenance": []
    },
    "kernelspec": {
      "name": "python3",
      "display_name": "Python 3"
    },
    "language_info": {
      "name": "python"
    }
  },
  "cells": [
    {
      "cell_type": "markdown",
      "source": [
        "#####**10TH Dec Logging and Debugging In Python**"
      ],
      "metadata": {
        "id": "9iczA2RxpLOA"
      }
    },
    {
      "cell_type": "markdown",
      "source": [
        "**Stages To Build An Application**\n",
        "\n",
        "*   **Develoopment (code section)**\n",
        "*   **Debugging**\n",
        "*   **Review**\n",
        "\n",
        "*  **Testing**\n",
        "*  **Production**\n",
        "\n",
        "**Module is the python file**\n",
        "\n"
      ],
      "metadata": {
        "id": "d3e9chdoppvb"
      }
    },
    {
      "cell_type": "markdown",
      "source": [
        "**1] Logging := Logging will allow us to check that my program is working fine or not**\n",
        "\n",
        "*  Logging basically emit some information about your program that it is working fine or not.\n",
        "\n",
        "*  So we can keep a track of program during runtime.\n",
        "\n",
        "*  Logging is basically a module in python which help us to track and monitor the log information.\n",
        "\n",
        "* Log information could be anything such as security log , applictiion log , system log\n",
        "\n",
        "*  Log is the critical part system documenttaion about runtime status of application."
      ],
      "metadata": {
        "id": "yRiemJHyrgqz"
      }
    },
    {
      "cell_type": "markdown",
      "source": [
        "**Different levels of logging**\n",
        "\n",
        "*  Debug := [10] Gives a detailed information\n",
        "*  Info := [20] Information that things are working as expected or not.\n",
        "*  Warning := [30]\n",
        "*  Error := [40]\n",
        "*  Critical := [50]"
      ],
      "metadata": {
        "id": "W-eo-77SVLxm"
      }
    },
    {
      "cell_type": "markdown",
      "source": [
        "*  **BasicConfig := it is used to configure logging**\n",
        "\n",
        "*  **When we set logging to 'DEBUG' we access this info as well as : = debug ,info , warning , error , critical**\n",
        "\n",
        "*  **When we set logging to 'INFO' we access this info as well as : = info ,warning , error , critical**\n",
        "\n",
        "*  **When we set logging to 'WARNING' we access this info as well as : = warning , error , critical**\n",
        "\n",
        "*  **When we set logging to 'ERROR' we access this info as well as : = error , critical**\n",
        "\n",
        "*  **When we set logging to 'CRITICAL' we access this info as well as : = critical**"
      ],
      "metadata": {
        "id": "RxrMMTu1bqBA"
      }
    },
    {
      "cell_type": "code",
      "source": [
        "import logging"
      ],
      "metadata": {
        "id": "n1f8E5nZW02N"
      },
      "execution_count": null,
      "outputs": []
    },
    {
      "cell_type": "code",
      "execution_count": null,
      "metadata": {
        "id": "XkURZfRupD_i"
      },
      "outputs": [],
      "source": [
        "logging.info(\"hello world\")"
      ]
    },
    {
      "cell_type": "code",
      "source": [
        "import logging\n",
        "logging.basicConfig(level = logging.DEBUG)\n",
        "\n",
        "def add(x,y) :\n",
        "  return x+y\n",
        "\n",
        "def mul(x,y):\n",
        "  return x*y\n",
        "\n",
        "def divide(x,y):\n",
        "  return x/y\n",
        "\n",
        "def sub(x,y):\n",
        "  return x-y\n",
        "\n",
        "def mod(x,y):\n",
        "  return x%y\n",
        "\n",
        "\n",
        "\n",
        "a = 10\n",
        "b = 10\n",
        "\n",
        "addition = add(a,b)\n",
        "logging.debug(addition)\n",
        "\n",
        "multiplication = mul(a,b)\n",
        "logging.info(multiplication)\n",
        "\n",
        "dividation = divide(a,b)\n",
        "logging.warning(dividation)\n",
        "\n",
        "modulus = mod(a,b)\n",
        "logging.error(modulus)\n",
        "\n",
        "substraction = sub(a,b)\n",
        "logging.critical(substraction)\n"
      ],
      "metadata": {
        "colab": {
          "base_uri": "https://localhost:8080/"
        },
        "id": "DwMH_5BbWj1q",
        "outputId": "937a4193-1a47-41f6-e3b5-243fb2d97283"
      },
      "execution_count": null,
      "outputs": [
        {
          "output_type": "stream",
          "name": "stderr",
          "text": [
            "WARNING:root:1.0\n",
            "ERROR:root:0\n",
            "CRITICAL:root:0\n"
          ]
        }
      ]
    },
    {
      "cell_type": "code",
      "source": [
        "import logging\n",
        "logging.basicConfig(level = logging.DEBUG)\n",
        "\n",
        "def add(x,y) :\n",
        "  return x+y\n",
        "\n",
        "def mul(x,y):\n",
        "  return x*y\n",
        "\n",
        "def divide(x,y):\n",
        "  return x/y\n",
        "\n",
        "def sub(x,y):\n",
        "  return x-y\n",
        "\n",
        "def mod(x,y):\n",
        "  return x%y\n",
        "\n",
        "\n",
        "\n",
        "a = 10\n",
        "b = 10\n",
        "\n",
        "addition = add(a,b)\n",
        "logging.debug(addition)\n",
        "\n",
        "multiplication = mul(a,b)\n",
        "logging.info(multiplication)\n",
        "\n",
        "dividation = divide(a,b)\n",
        "logging.warning(dividation)\n",
        "\n",
        "modulus = mod(a,b)\n",
        "logging.error(modulus)\n",
        "\n",
        "substraction = sub(a,b)\n",
        "logging.critical(substraction)\n"
      ],
      "metadata": {
        "colab": {
          "base_uri": "https://localhost:8080/"
        },
        "id": "rjRSRqU0glJg",
        "outputId": "ac7757ef-2ba0-44e3-9c83-a7ac92d92bb1"
      },
      "execution_count": null,
      "outputs": [
        {
          "output_type": "stream",
          "name": "stderr",
          "text": [
            "WARNING:root:1.0\n",
            "ERROR:root:0\n",
            "CRITICAL:root:0\n"
          ]
        }
      ]
    },
    {
      "cell_type": "code",
      "source": [
        "import logging \n",
        "logging.basicConfig(filename = \"test4.log\" , level = logging.DEBUG)\n",
        "def checkname(name) :\n",
        "  if len(name) < 2 :\n",
        "    logging.debug(\"checking name length\")\n",
        "    return \"invalid name\"\n",
        "  elif name.isalpha() :\n",
        "    logging.debug(\"checking type of name\")\n",
        "    return \"valid name\"\n",
        "  elif name.isspace():\n",
        "    logging.debug(\"cheking spaces in name\")\n",
        "    return \"invalid name\"\n",
        "  elif name.replace(\" \",'').isalpha():\n",
        "    logging.debug(\"checking for full name\")\n",
        "    return \"name is valid\"\n",
        "  else :\n",
        "    logging.debug(\"failed all checks\")\n",
        "    return \"invalid name\"\n",
        " \n",
        "  \n",
        "\n",
        "result = checkname(\"mahendra gharad\") \n",
        "print(result)"
      ],
      "metadata": {
        "id": "aHwKa_TS8CuL",
        "colab": {
          "base_uri": "https://localhost:8080/"
        },
        "outputId": "2e920080-74de-403c-84b3-9756fc2e7a2e"
      },
      "execution_count": null,
      "outputs": [
        {
          "output_type": "stream",
          "name": "stdout",
          "text": [
            "name is valid\n"
          ]
        }
      ]
    },
    {
      "cell_type": "markdown",
      "source": [
        "#####**Formatting By Date , Timespan etc**\n",
        "*   '%' it is a style format"
      ],
      "metadata": {
        "id": "7JJDfIgmY8k4"
      }
    },
    {
      "cell_type": "code",
      "source": [
        "import logging \n",
        "logging.basicConfig(filename = \"test44.log\" , level = logging.DEBUG , format = '%(asctime)s --- %(levelname)s --- %(message)s ')\n",
        "                                                                      # This is called formatting\n",
        "\n",
        "def checkname(name) :\n",
        "  if len(name) < 2 :\n",
        "    logging.debug(\"checking name length\")\n",
        "    return \"invalid name\"\n",
        "  elif name.isalpha() :\n",
        "    logging.debug(\"checking type of name\")\n",
        "    return \"valid name\"\n",
        "  elif name.isspace():\n",
        "    logging.debug(\"cheking spaces in name\")\n",
        "    return \"invalid name\"\n",
        "  elif name.replace(\" \",'').isalpha():\n",
        "    logging.debug(\"checking for full name\")\n",
        "    return \"name is valid\"\n",
        "  else :\n",
        "    logging.debug(\"failed all checks\")\n",
        "    return \"invalid name\"\n",
        " \n",
        "  \n",
        "\n",
        "result = checkname(\"mahendra gharad\") \n",
        "print(result)"
      ],
      "metadata": {
        "colab": {
          "base_uri": "https://localhost:8080/"
        },
        "id": "aGV2UekdT216",
        "outputId": "98ca4f69-d83e-4e66-d548-a5a26259b278"
      },
      "execution_count": null,
      "outputs": [
        {
          "output_type": "stream",
          "name": "stdout",
          "text": [
            "name is valid\n"
          ]
        }
      ]
    },
    {
      "cell_type": "code",
      "source": [
        "#  Create a logger in your code\n",
        "#  Create the function which will take agrs as numbers and return sum fo that numbers\n",
        "#  Create a user input as log file \n",
        "#  Read a log file from python code and show it in console\n",
        "\n",
        "import logging \n",
        "\n",
        "logging.basicConfig(filename = \"test46.log\" , level = logging.INFO)\n",
        "# Create a logger in your code  # Create a user input as log file \n",
        "\n",
        "def sumation(*args):\n",
        "    logging.info(\"This is my addition function\")\n",
        "    sum1 = 0\n",
        "    for i in args:\n",
        "        logging.info(str(i))\n",
        "        # Creating a user input as log file and appending input in it\n",
        "        sum1 = sum1 + i \n",
        "    return sum1\n",
        "\n",
        "\n",
        "sumation(1,2,3,4,5)\n",
        "\n",
        "\n",
        "f=open(\"test46.log\" , \"r\")\n",
        "print(f.read())\n",
        "# Reading a log file from python code and showing it in console"
      ],
      "metadata": {
        "id": "w5ZHGFzobYAg"
      },
      "execution_count": null,
      "outputs": []
    },
    {
      "cell_type": "markdown",
      "source": [
        "*  **We can aslo import module(file) by using import keyword and also we can access the functions present in the file inside the another module(file) by just importing them using import keyword and module name(file name)**\n",
        "\n",
        "*  **See the following example to understand it better**\n",
        "\n"
      ],
      "metadata": {
        "id": "aLgqE-mTX15J"
      }
    },
    {
      "cell_type": "code",
      "source": [
        "# This is the function which i have created in module name file\n",
        "def addition(a,b) :\n",
        "    result = a + b \n",
        "    return result\n",
        "\n",
        "sum = addition(10,787)\n",
        "print(sum)"
      ],
      "metadata": {
        "colab": {
          "base_uri": "https://localhost:8080/"
        },
        "id": "tPWYdoJEaHkx",
        "outputId": "f4c81a6f-1669-48cc-aeec-c95b2853cb7e"
      },
      "execution_count": 1,
      "outputs": [
        {
          "output_type": "stream",
          "name": "stdout",
          "text": [
            "797\n"
          ]
        }
      ]
    },
    {
      "cell_type": "code",
      "source": [
        "#  we can access the properties of that function using this import module statement\n",
        "# This only work in vscode \n",
        "#  Module is the module name (file name) which we are calling from another file name\n",
        "import module\n",
        "k = module.addition(10,25)\n",
        "print(k)"
      ],
      "metadata": {
        "colab": {
          "base_uri": "https://localhost:8080/",
          "height": 373
        },
        "id": "O-a1j4QKazni",
        "outputId": "97f695c1-cfa2-4421-bea2-6271b6e7844d"
      },
      "execution_count": 3,
      "outputs": [
        {
          "output_type": "error",
          "ename": "ModuleNotFoundError",
          "evalue": "ignored",
          "traceback": [
            "\u001b[0;31m---------------------------------------------------------------------------\u001b[0m",
            "\u001b[0;31mModuleNotFoundError\u001b[0m                       Traceback (most recent call last)",
            "\u001b[0;32m<ipython-input-3-083eb33ae4c1>\u001b[0m in \u001b[0;36m<module>\u001b[0;34m\u001b[0m\n\u001b[1;32m      1\u001b[0m \u001b[0;31m#  we can access the properties of that function using this import module statement\u001b[0m\u001b[0;34m\u001b[0m\u001b[0;34m\u001b[0m\u001b[0;34m\u001b[0m\u001b[0m\n\u001b[1;32m      2\u001b[0m \u001b[0;31m# This only work in vscode\u001b[0m\u001b[0;34m\u001b[0m\u001b[0;34m\u001b[0m\u001b[0;34m\u001b[0m\u001b[0m\n\u001b[0;32m----> 3\u001b[0;31m \u001b[0;32mimport\u001b[0m \u001b[0maddition\u001b[0m\u001b[0;34m\u001b[0m\u001b[0;34m\u001b[0m\u001b[0m\n\u001b[0m\u001b[1;32m      4\u001b[0m \u001b[0;34m\u001b[0m\u001b[0m\n\u001b[1;32m      5\u001b[0m \u001b[0mk\u001b[0m \u001b[0;34m=\u001b[0m \u001b[0mmodule\u001b[0m\u001b[0;34m.\u001b[0m\u001b[0maddition\u001b[0m\u001b[0;34m(\u001b[0m\u001b[0;36m10\u001b[0m\u001b[0;34m,\u001b[0m\u001b[0;36m25\u001b[0m\u001b[0;34m)\u001b[0m\u001b[0;34m\u001b[0m\u001b[0;34m\u001b[0m\u001b[0m\n",
            "\u001b[0;31mModuleNotFoundError\u001b[0m: No module named 'addition'",
            "",
            "\u001b[0;31m---------------------------------------------------------------------------\u001b[0;32m\nNOTE: If your import is failing due to a missing package, you can\nmanually install dependencies using either !pip or !apt.\n\nTo view examples of installing some common dependencies, click the\n\"Open Examples\" button below.\n\u001b[0;31m---------------------------------------------------------------------------\u001b[0m\n"
          ],
          "errorDetails": {
            "actions": [
              {
                "action": "open_url",
                "actionText": "Open Examples",
                "url": "/notebooks/snippets/importing_libraries.ipynb"
              }
            ]
          }
        }
      ]
    },
    {
      "cell_type": "markdown",
      "source": [
        "**Once the root ('basicConfig') is configured it will not overight it**"
      ],
      "metadata": {
        "id": "ufam6BV9nROh"
      }
    },
    {
      "cell_type": "code",
      "source": [
        "import os\n",
        "import logging\n",
        "\n",
        "logger=logging.getLogger(__name__)\n",
        "logger.setLevel(logging.DEBUG)\n",
        "\n",
        "f=logging.Formatter('%(asctime)s:%(name)s:%(levelname)s:%(message)s')\n",
        "\n",
        "fh=logging.FileHandler('saveTofile.log')\n",
        "fh.setFormatter(f)\n",
        "\n",
        "logger.addHandler(fh)\n",
        "\n",
        "# Creating its own logger\n",
        "\n",
        "#logging.basicConfig(filename='saveTofile.log',level=logging.DEBUG,format='%(asctime)s:%(levelname)s:%(message)s')\n",
        "\n",
        "\n",
        "def namecheck(name):\n",
        "    logger.debug(f'checking name \"{name}\"....')\n",
        "    if os.path.exists('data.txt'):\n",
        "        with open('data.txt','r') as readFile:\n",
        "            for line in readFile:\n",
        "                if line.lower().startswith(f'name: {name.lower()}'):\n",
        "                    logger.error(f'Name: \"{name}\" already exists')\n",
        "                    return False\n",
        "            if len(name) == 0:\n",
        "                logger.critical('Name cannot be blank')\n",
        "                return False\n",
        "            elif not name.isalpha():\n",
        "                logger.critical('name must be an alphabet')\n",
        "                return False\n",
        "            else:\n",
        "                logger.error(f'check successfull')\n",
        "                return True\n",
        "    else:\n",
        "        logger.debug('No data found')\n",
        "        return True\n",
        "\n",
        "\n",
        "def saveData(name,age,email):\n",
        "    logger.debug(f'Saving details of {name}...')\n",
        "    with open('data.txt','a') as appendFile:\n",
        "        appendFile.write(f'Name: {name} - Age: {age} - Email: {email}\\n')\n",
        "        print(f'Details saved successfully')\n",
        "\n",
        "logger.info('End of saveToFile Program')\n",
        "logger.debug('########################')\n"
      ],
      "metadata": {
        "id": "LT7-DBX0ax0B"
      },
      "execution_count": null,
      "outputs": []
    }
  ]
}